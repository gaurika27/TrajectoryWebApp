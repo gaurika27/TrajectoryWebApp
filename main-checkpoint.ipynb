{
 "cells": [
  {
   "cell_type": "code",
   "execution_count": 1,
   "id": "f688daea",
   "metadata": {},
   "outputs": [],
   "source": [
    "# !pip install taipy"
   ]
  },
  {
   "cell_type": "code",
   "execution_count": 2,
   "id": "ee16ab03",
   "metadata": {},
   "outputs": [],
   "source": [
    "from taipy.gui import page, Html, Gui, Markdown\n",
    "import numpy as np\n",
    "import pandas as pd\n",
    "from sklearn.model_selection import train_test_split\n",
    "from sklearn.linear_model import LinearRegression\n",
    "from sklearn.metrics import mean_squared_error\n",
    "import matplotlib.pyplot as plt\n",
    "import warnings\n",
    "warnings.filterwarnings(\"ignore\", message=\"libuv only supports millisecond timer resolution\")"
   ]
  },
  {
   "cell_type": "code",
   "execution_count": 3,
   "id": "4096a3bd",
   "metadata": {},
   "outputs": [],
   "source": [
    "page=\"\"\"\n",
    "<h1>Satellite Trajectory Optimisation</h1> \n",
    "\"\"\""
   ]
  },
  {
   "cell_type": "code",
   "execution_count": 4,
   "id": "4be28103",
   "metadata": {},
   "outputs": [],
   "source": [
    "import taipy.gui.builder as tgb\n",
    "\n",
    "with tgb.Page() as page:\n",
    "  tgb.text(\"Click the button below to visit Google!\")\n",
    "  tgb.button(\"[Visit Google](https://www.google.com/)\")  # Markdown link syntax\n"
   ]
  },
  {
   "cell_type": "code",
   "execution_count": 5,
   "id": "6e5dfd21",
   "metadata": {},
   "outputs": [],
   "source": [
    "df = pd.read_csv('satellite_trajectory_dataset.csv')"
   ]
  },
  {
   "cell_type": "code",
   "execution_count": 6,
   "id": "956426e8",
   "metadata": {},
   "outputs": [],
   "source": [
    "# Define features (X) and target variable (y)\n",
    "features = df[['initial_velocity', 'launch_angle', 'atmospheric_conditions']]\n",
    "target = df['trajectory_optimization']  # Replace 'trajectory_optimization' with the actual target column name"
   ]
  },
  {
   "cell_type": "code",
   "execution_count": 7,
   "id": "8133f015",
   "metadata": {},
   "outputs": [],
   "source": [
    "# # Import necessary libraries\n",
    "# import numpy as np\n",
    "# import pandas as pd\n",
    "# from sklearn.model_selection import train_test_split\n",
    "# from sklearn.linear_model import LinearRegression\n",
    "# from sklearn.metrics import mean_squared_error\n",
    "# import matplotlib.pyplot as plt\n",
    "\n",
    "# # Load your satellite trajectory dataset (replace 'your_dataset.csv' with the actual file name)\n",
    "# # Make sure your dataset includes columns like 'initial_velocity', 'launch_angle', etc.\n",
    "# df = pd.read_csv('satellite_trajectory_dataset.csv')\n",
    "\n",
    "# # Define features (X) and target variable (y)\n",
    "# features = df[['initial_velocity', 'launch_angle', 'atmospheric_conditions']]\n",
    "# target = df['trajectory_optimization']  # Replace 'trajectory_optimization' with the actual target column name\n",
    "\n",
    "# # Split the dataset into training and testing sets\n",
    "# X_train, X_test, y_train, y_test = train_test_split(features, target, test_size=0.2, random_state=42)\n",
    "\n",
    "# # Initialize the linear regression model\n",
    "# model = LinearRegression()\n",
    "\n",
    "# # Train the model\n",
    "# model.fit(X_train, y_train)\n",
    "\n",
    "# # Make predictions on the test set\n",
    "# predictions = model.predict(X_test)\n",
    "\n",
    "# # Evaluate the model\n",
    "# mse = mean_squared_error(y_test, predictions)\n",
    "# print(f'Mean Squared Error: {mse}')\n",
    "\n",
    "# # Visualize results (for simplicity, you can modify this based on your actual data)\n",
    "# plt.scatter(X_test['initial_velocity'], y_test, color='black', label='Actual')\n",
    "# plt.scatter(X_test['initial_velocity'], predictions, color='blue', label='Predicted')\n",
    "# plt.xlabel('Initial Velocity')\n",
    "# plt.ylabel('Optimized Trajectory')\n",
    "# plt.legend()\n",
    "# plt.show()\n"
   ]
  },
  {
   "cell_type": "code",
   "execution_count": 8,
   "id": "af74f42c",
   "metadata": {},
   "outputs": [
    {
     "name": "stdout",
     "output_type": "stream",
     "text": [
      "[2024-03-09 12:24:58][Taipy][INFO] Running in 'single_client' mode in notebook environment\n",
      "[2024-03-09 12:24:58][Taipy][INFO] 'use_reloader' parameter is not available in notebook environment\n",
      "[2024-03-09 12:25:03][Taipy][INFO]  * Server starting on http://127.0.0.1:5002\n",
      "[2024-03-09 12:25:04][Taipy][INFO] Running in 'single_client' mode in notebook environment\n",
      "[2024-03-09 12:25:04][Taipy][INFO] 'use_reloader' parameter is not available in notebook environment\n",
      "[2024-03-09 12:25:08][Taipy][INFO] Gui server has been stopped.\n",
      "[2024-03-09 12:25:08][Taipy][INFO]  * Server starting on http://127.0.0.1:5002\n"
     ]
    },
    {
     "name": "stderr",
     "output_type": "stream",
     "text": [
      "Unhandled Error\n",
      "Traceback (most recent call last):\n",
      "  File \"C:\\ProgramData\\anaconda3\\Lib\\threading.py\", line 1038, in _bootstrap_inner\n",
      "    self.run()\n",
      "  File \"C:\\ProgramData\\anaconda3\\Lib\\threading.py\", line 975, in run\n",
      "    self._target(*self._args, **self._kwargs)\n",
      "  File \"C:\\Users\\gauri\\AppData\\Roaming\\Python\\Python311\\site-packages\\twisted\\internet\\base.py\", line 695, in run\n",
      "    self.mainLoop()\n",
      "  File \"C:\\Users\\gauri\\AppData\\Roaming\\Python\\Python311\\site-packages\\twisted\\internet\\base.py\", line 705, in mainLoop\n",
      "    self.runUntilCurrent()\n",
      "--- <exception caught here> ---\n",
      "  File \"C:\\Users\\gauri\\AppData\\Roaming\\Python\\Python311\\site-packages\\twisted\\internet\\base.py\", line 1090, in runUntilCurrent\n",
      "    call.func(*call.args, **call.kw)\n",
      "  File \"C:\\Users\\gauri\\AppData\\Roaming\\Python\\Python311\\site-packages\\twisted\\internet\\tcp.py\", line 485, in failIfNotConnected\n",
      "    self.connector.connectionFailed(failure.Failure(err))\n",
      "  File \"C:\\Users\\gauri\\AppData\\Roaming\\Python\\Python311\\site-packages\\twisted\\internet\\base.py\", line 1297, in connectionFailed\n",
      "    self.factory.clientConnectionFailed(self, reason)\n",
      "  File \"C:\\Users\\gauri\\AppData\\Roaming\\Python\\Python311\\site-packages\\twisted\\web\\proxy.py\", line 115, in clientConnectionFailed\n",
      "    self.father.finish()\n",
      "  File \"C:\\Users\\gauri\\AppData\\Roaming\\Python\\Python311\\site-packages\\twisted\\web\\server.py\", line 277, in finish\n",
      "    return http.Request.finish(self)\n",
      "  File \"C:\\Users\\gauri\\AppData\\Roaming\\Python\\Python311\\site-packages\\twisted\\web\\http.py\", line 1149, in finish\n",
      "    raise RuntimeError(\n",
      "builtins.RuntimeError: Request.finish called on a request after its connection was lost; use Request.notifyFinish to keep track of this.\n",
      "\n"
     ]
    }
   ],
   "source": [
    "app = Gui(page)\n",
    "app.run(use_reloader=True, port=5002)\n",
    "Gui(page).run(use_reloader=True, port=5002)"
   ]
  },
  {
   "cell_type": "code",
   "execution_count": null,
   "id": "c944d5db",
   "metadata": {},
   "outputs": [],
   "source": []
  }
 ],
 "metadata": {
  "kernelspec": {
   "display_name": "Python 3 (ipykernel)",
   "language": "python",
   "name": "python3"
  },
  "language_info": {
   "codemirror_mode": {
    "name": "ipython",
    "version": 3
   },
   "file_extension": ".py",
   "mimetype": "text/x-python",
   "name": "python",
   "nbconvert_exporter": "python",
   "pygments_lexer": "ipython3",
   "version": "3.11.5"
  }
 },
 "nbformat": 4,
 "nbformat_minor": 5
}

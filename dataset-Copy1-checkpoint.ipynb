{
 "cells": [
  {
   "cell_type": "code",
   "execution_count": 1,
   "id": "dba51e35",
   "metadata": {},
   "outputs": [],
   "source": [
    "import numpy as np\n",
    "import pandas as pd\n",
    "\n",
    "# Set a random seed for reproducibility\n",
    "np.random.seed(42)\n",
    "\n",
    "# Generate synthetic data\n",
    "num_samples = 1000\n",
    "\n",
    "initial_velocity = np.random.uniform(1000, 5000, num_samples)\n",
    "launch_angle = np.random.uniform(0, 90, num_samples)\n",
    "atmospheric_conditions = np.random.uniform(0, 1, num_samples)\n",
    "\n",
    "# Simulate a relationship between features and optimized trajectory\n",
    "trajectory_optimization = 0.5 * initial_velocity + 0.2 * launch_angle + 0.1 * atmospheric_conditions + np.random.normal(0, 100, num_samples)\n",
    "\n",
    "# Create a DataFrame\n",
    "df = pd.DataFrame({\n",
    "    'initial_velocity': initial_velocity,\n",
    "    'launch_angle': launch_angle,\n",
    "    'atmospheric_conditions': atmospheric_conditions,\n",
    "    'trajectory_optimization': trajectory_optimization\n",
    "})\n",
    "\n",
    "# Save the dataset to a CSV file\n",
    "df.to_csv('satellite_trajectory_dataset.csv', index=False)\n"
   ]
  }
 ],
 "metadata": {
  "kernelspec": {
   "display_name": "Python 3 (ipykernel)",
   "language": "python",
   "name": "python3"
  },
  "language_info": {
   "codemirror_mode": {
    "name": "ipython",
    "version": 3
   },
   "file_extension": ".py",
   "mimetype": "text/x-python",
   "name": "python",
   "nbconvert_exporter": "python",
   "pygments_lexer": "ipython3",
   "version": "3.11.5"
  }
 },
 "nbformat": 4,
 "nbformat_minor": 5
}

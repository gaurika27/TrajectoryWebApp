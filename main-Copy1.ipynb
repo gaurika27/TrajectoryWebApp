{
 "cells": [
  {
   "cell_type": "code",
   "execution_count": null,
   "id": "8133f015",
   "metadata": {},
   "outputs": [],
   "source": [
    "# Import necessary libraries\n",
    "import numpy as np\n",
    "import pandas as pd\n",
    "from sklearn.model_selection import train_test_split\n",
    "from sklearn.linear_model import LinearRegression\n",
    "from sklearn.metrics import mean_squared_error\n",
    "import matplotlib.pyplot as plt\n",
    "\n",
    "# Load your satellite trajectory dataset (replace 'your_dataset.csv' with the actual file name)\n",
    "# Make sure your dataset includes columns like 'initial_velocity', 'launch_angle', etc.\n",
    "df = pd.read_csv('satellite_trajectory_dataset.csv')\n",
    "\n",
    "# Define features (X) and target variable (y)\n",
    "features = df[['initial_velocity', 'launch_angle', 'atmospheric_conditions']]\n",
    "target = df['trajectory_optimization']  # Replace 'trajectory_optimization' with the actual target column name\n",
    "\n",
    "# Split the dataset into training and testing sets\n",
    "X_train, X_test, y_train, y_test = train_test_split(features, target, test_size=0.2, random_state=42)\n",
    "\n",
    "# Initialize the linear regression model\n",
    "model = LinearRegression()\n",
    "\n",
    "# Train the model\n",
    "model.fit(X_train, y_train)\n",
    "\n",
    "# Make predictions on the test set\n",
    "predictions = model.predict(X_test)\n",
    "\n",
    "# Evaluate the model\n",
    "mse = mean_squared_error(y_test, predictions)\n",
    "print(f'Mean Squared Error: {mse}')\n",
    "\n",
    "# Visualize results (for simplicity, you can modify this based on your actual data)\n",
    "plt.scatter(X_test['initial_velocity'], y_test, color='black', label='Actual')\n",
    "plt.scatter(X_test['initial_velocity'], predictions, color='blue', label='Predicted')\n",
    "plt.xlabel('Initial Velocity')\n",
    "plt.ylabel('Optimized Trajectory')\n",
    "plt.legend()\n",
    "plt.show()\n"
   ]
  }
 ],
 "metadata": {
  "kernelspec": {
   "display_name": "Python 3 (ipykernel)",
   "language": "python",
   "name": "python3"
  },
  "language_info": {
   "codemirror_mode": {
    "name": "ipython",
    "version": 3
   },
   "file_extension": ".py",
   "mimetype": "text/x-python",
   "name": "python",
   "nbconvert_exporter": "python",
   "pygments_lexer": "ipython3",
   "version": "3.11.5"
  }
 },
 "nbformat": 4,
 "nbformat_minor": 5
}
